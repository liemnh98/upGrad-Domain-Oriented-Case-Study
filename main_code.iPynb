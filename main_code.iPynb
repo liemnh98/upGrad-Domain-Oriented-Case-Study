{
 "cells": [
  {
   "cell_type": "markdown",
   "metadata": {},
   "source": [
    "# Option II - E-Commerce & Retail B2B Case Study"
   ]
  },
  {
   "cell_type": "markdown",
   "metadata": {},
   "source": [
    "## Import Libaries"
   ]
  },
  {
   "cell_type": "code",
   "execution_count": 1,
   "metadata": {},
   "outputs": [],
   "source": [
    "# import libaries\n",
    "import pandas as pd\n",
    "import numpy as np\n",
    "import matplotlib.pyplot as plt\n",
    "import seaborn as sns\n",
    "import re\n",
    "\n",
    "from sklearn.model_selection import train_test_split\n",
    "from sklearn.linear_model import LogisticRegression\n",
    "from sklearn.feature_selection import RFE\n",
    "from sklearn.discriminant_analysis import StandardScaler\n",
    "from sklearn.metrics import accuracy_score\n",
    "from sklearn.metrics import confusion_matrix\n",
    "\n",
    "from scipy.cluster.hierarchy import linkage\n",
    "from scipy.cluster.hierarchy import dendrogram\n",
    "from scipy.cluster.hierarchy import cut_tree\n",
    "\n",
    "import statsmodels.api as sm\n",
    "from statsmodels.stats.outliers_influence import variance_inflation_factor\n",
    "\n",
    "sns.set_theme(style=\"whitegrid\")"
   ]
  },
  {
   "cell_type": "markdown",
   "metadata": {},
   "source": [
    "## Data Cleaning & Preparation"
   ]
  },
  {
   "cell_type": "markdown",
   "metadata": {},
   "source": [
    "### Load Data"
   ]
  },
  {
   "cell_type": "code",
   "execution_count": 2,
   "metadata": {},
   "outputs": [
    {
     "data": {
      "text/html": [
       "<div>\n",
       "<style scoped>\n",
       "    .dataframe tbody tr th:only-of-type {\n",
       "        vertical-align: middle;\n",
       "    }\n",
       "\n",
       "    .dataframe tbody tr th {\n",
       "        vertical-align: top;\n",
       "    }\n",
       "\n",
       "    .dataframe thead th {\n",
       "        text-align: right;\n",
       "    }\n",
       "</style>\n",
       "<table border=\"1\" class=\"dataframe\">\n",
       "  <thead>\n",
       "    <tr style=\"text-align: right;\">\n",
       "      <th></th>\n",
       "      <th>RECEIPT_METHOD</th>\n",
       "      <th>CUSTOMER_NAME</th>\n",
       "      <th>CUSTOMER_NUMBER</th>\n",
       "      <th>RECEIPT_DOC_NO</th>\n",
       "      <th>RECEIPT_DATE</th>\n",
       "      <th>CLASS</th>\n",
       "      <th>CURRENCY_CODE</th>\n",
       "      <th>Local Amount</th>\n",
       "      <th>USD Amount</th>\n",
       "      <th>INVOICE_ALLOCATED</th>\n",
       "      <th>INVOICE_CREATION_DATE</th>\n",
       "      <th>DUE_DATE</th>\n",
       "      <th>PAYMENT_TERM</th>\n",
       "      <th>INVOICE_CLASS</th>\n",
       "      <th>INVOICE_CURRENCY_CODE</th>\n",
       "      <th>INVOICE_TYPE</th>\n",
       "    </tr>\n",
       "  </thead>\n",
       "  <tbody>\n",
       "    <tr>\n",
       "      <th>0</th>\n",
       "      <td>WIRE</td>\n",
       "      <td>C EA Corp</td>\n",
       "      <td>37403</td>\n",
       "      <td>1.421000e+10</td>\n",
       "      <td>20-Apr-21</td>\n",
       "      <td>PMT</td>\n",
       "      <td>USD</td>\n",
       "      <td>370990.92</td>\n",
       "      <td>101018.63040</td>\n",
       "      <td>14200000001</td>\n",
       "      <td>2-Nov-20</td>\n",
       "      <td>30-Dec-20</td>\n",
       "      <td>30 Days from EOM</td>\n",
       "      <td>INV</td>\n",
       "      <td>AED</td>\n",
       "      <td>Non Goods</td>\n",
       "    </tr>\n",
       "    <tr>\n",
       "      <th>1</th>\n",
       "      <td>WIRE</td>\n",
       "      <td>RADW Corp</td>\n",
       "      <td>4003</td>\n",
       "      <td>9.921000e+10</td>\n",
       "      <td>31-Jan-21</td>\n",
       "      <td>PMT</td>\n",
       "      <td>SAR</td>\n",
       "      <td>183750.00</td>\n",
       "      <td>48990.21133</td>\n",
       "      <td>99200000043</td>\n",
       "      <td>29-Dec-20</td>\n",
       "      <td>28-Jan-21</td>\n",
       "      <td>30 Days from Inv Date</td>\n",
       "      <td>INV</td>\n",
       "      <td>SAR</td>\n",
       "      <td>Non Goods</td>\n",
       "    </tr>\n",
       "    <tr>\n",
       "      <th>2</th>\n",
       "      <td>WIRE</td>\n",
       "      <td>RADW Corp</td>\n",
       "      <td>4003</td>\n",
       "      <td>9.921000e+10</td>\n",
       "      <td>31-Jan-21</td>\n",
       "      <td>PMT</td>\n",
       "      <td>SAR</td>\n",
       "      <td>157500.00</td>\n",
       "      <td>41991.60971</td>\n",
       "      <td>99210000003</td>\n",
       "      <td>30-Jan-21</td>\n",
       "      <td>1-Mar-21</td>\n",
       "      <td>30 Days from Inv Date</td>\n",
       "      <td>INV</td>\n",
       "      <td>SAR</td>\n",
       "      <td>Non Goods</td>\n",
       "    </tr>\n",
       "    <tr>\n",
       "      <th>3</th>\n",
       "      <td>WIRE</td>\n",
       "      <td>FARO Corp</td>\n",
       "      <td>1409</td>\n",
       "      <td>9.921000e+10</td>\n",
       "      <td>31-Jan-21</td>\n",
       "      <td>PMT</td>\n",
       "      <td>SAR</td>\n",
       "      <td>157500.00</td>\n",
       "      <td>41991.60971</td>\n",
       "      <td>99200000038</td>\n",
       "      <td>15-Dec-20</td>\n",
       "      <td>14-Jan-21</td>\n",
       "      <td>30 Days from Inv Date</td>\n",
       "      <td>INV</td>\n",
       "      <td>SAR</td>\n",
       "      <td>Non Goods</td>\n",
       "    </tr>\n",
       "    <tr>\n",
       "      <th>4</th>\n",
       "      <td>WIRE</td>\n",
       "      <td>RADW Corp</td>\n",
       "      <td>4003</td>\n",
       "      <td>9.921000e+10</td>\n",
       "      <td>31-Jan-21</td>\n",
       "      <td>PMT</td>\n",
       "      <td>SAR</td>\n",
       "      <td>157500.00</td>\n",
       "      <td>41991.60971</td>\n",
       "      <td>99200000039</td>\n",
       "      <td>15-Dec-20</td>\n",
       "      <td>14-Jan-21</td>\n",
       "      <td>30 Days from Inv Date</td>\n",
       "      <td>INV</td>\n",
       "      <td>SAR</td>\n",
       "      <td>Non Goods</td>\n",
       "    </tr>\n",
       "  </tbody>\n",
       "</table>\n",
       "</div>"
      ],
      "text/plain": [
       "  RECEIPT_METHOD CUSTOMER_NAME  CUSTOMER_NUMBER  RECEIPT_DOC_NO RECEIPT_DATE  \\\n",
       "0           WIRE     C EA Corp            37403    1.421000e+10    20-Apr-21   \n",
       "1           WIRE     RADW Corp             4003    9.921000e+10    31-Jan-21   \n",
       "2           WIRE     RADW Corp             4003    9.921000e+10    31-Jan-21   \n",
       "3           WIRE     FARO Corp             1409    9.921000e+10    31-Jan-21   \n",
       "4           WIRE     RADW Corp             4003    9.921000e+10    31-Jan-21   \n",
       "\n",
       "  CLASS CURRENCY_CODE  Local Amount    USD Amount INVOICE_ALLOCATED  \\\n",
       "0   PMT           USD     370990.92  101018.63040       14200000001   \n",
       "1   PMT           SAR     183750.00   48990.21133       99200000043   \n",
       "2   PMT           SAR     157500.00   41991.60971       99210000003   \n",
       "3   PMT           SAR     157500.00   41991.60971       99200000038   \n",
       "4   PMT           SAR     157500.00   41991.60971       99200000039   \n",
       "\n",
       "  INVOICE_CREATION_DATE   DUE_DATE           PAYMENT_TERM INVOICE_CLASS  \\\n",
       "0              2-Nov-20  30-Dec-20       30 Days from EOM           INV   \n",
       "1             29-Dec-20  28-Jan-21  30 Days from Inv Date           INV   \n",
       "2             30-Jan-21   1-Mar-21  30 Days from Inv Date           INV   \n",
       "3             15-Dec-20  14-Jan-21  30 Days from Inv Date           INV   \n",
       "4             15-Dec-20  14-Jan-21  30 Days from Inv Date           INV   \n",
       "\n",
       "  INVOICE_CURRENCY_CODE INVOICE_TYPE  \n",
       "0                   AED    Non Goods  \n",
       "1                   SAR    Non Goods  \n",
       "2                   SAR    Non Goods  \n",
       "3                   SAR    Non Goods  \n",
       "4                   SAR    Non Goods  "
      ]
     },
     "execution_count": 2,
     "metadata": {},
     "output_type": "execute_result"
    }
   ],
   "source": [
    "# import Received Payments Data\n",
    "received = pd.read_csv('data/Received_Payments_Data.csv', encoding='UTF-8')\n",
    "received.head()"
   ]
  },
  {
   "cell_type": "code",
   "execution_count": 3,
   "metadata": {},
   "outputs": [
    {
     "data": {
      "text/html": [
       "<div>\n",
       "<style scoped>\n",
       "    .dataframe tbody tr th:only-of-type {\n",
       "        vertical-align: middle;\n",
       "    }\n",
       "\n",
       "    .dataframe tbody tr th {\n",
       "        vertical-align: top;\n",
       "    }\n",
       "\n",
       "    .dataframe thead th {\n",
       "        text-align: right;\n",
       "    }\n",
       "</style>\n",
       "<table border=\"1\" class=\"dataframe\">\n",
       "  <thead>\n",
       "    <tr style=\"text-align: right;\">\n",
       "      <th></th>\n",
       "      <th>AS_OF_DATE</th>\n",
       "      <th>Customer Type</th>\n",
       "      <th>Customer_Name</th>\n",
       "      <th>Customer Account No</th>\n",
       "      <th>Transaction Number</th>\n",
       "      <th>Transaction Date</th>\n",
       "      <th>Payment Term</th>\n",
       "      <th>Due Date</th>\n",
       "      <th>Transaction Currency</th>\n",
       "      <th>Local Amount</th>\n",
       "      <th>Transaction Class</th>\n",
       "      <th>AGE</th>\n",
       "      <th>USD Amount</th>\n",
       "      <th>INV_CREATION_DATE</th>\n",
       "    </tr>\n",
       "  </thead>\n",
       "  <tbody>\n",
       "    <tr>\n",
       "      <th>0</th>\n",
       "      <td>04-APR-2022 01:07:01</td>\n",
       "      <td>3rd Party</td>\n",
       "      <td>GIVE Corp</td>\n",
       "      <td>49144.0</td>\n",
       "      <td>100210000438</td>\n",
       "      <td>21/12/2021</td>\n",
       "      <td>Immediate</td>\n",
       "      <td>21/12/2021</td>\n",
       "      <td>AED</td>\n",
       "      <td>-3,088</td>\n",
       "      <td>CREDIT NOTE</td>\n",
       "      <td>105</td>\n",
       "      <td>-3,088</td>\n",
       "      <td>12/21/2021 12:53</td>\n",
       "    </tr>\n",
       "    <tr>\n",
       "      <th>1</th>\n",
       "      <td>04-APR-2022 01:07:01</td>\n",
       "      <td>Related Party</td>\n",
       "      <td>AL J Corp</td>\n",
       "      <td>23152.0</td>\n",
       "      <td>100220000052</td>\n",
       "      <td>01/02/2022</td>\n",
       "      <td>30 Days from Inv Date</td>\n",
       "      <td>03/03/2022</td>\n",
       "      <td>USD</td>\n",
       "      <td>2,000</td>\n",
       "      <td>INVOICE</td>\n",
       "      <td>33</td>\n",
       "      <td>2,000</td>\n",
       "      <td>2/1/2022 14:09</td>\n",
       "    </tr>\n",
       "    <tr>\n",
       "      <th>2</th>\n",
       "      <td>04-APR-2022 01:07:01</td>\n",
       "      <td>Related Party</td>\n",
       "      <td>AL J Corp</td>\n",
       "      <td>23152.0</td>\n",
       "      <td>100220000143</td>\n",
       "      <td>24/03/2022</td>\n",
       "      <td>30 Days from Inv Date</td>\n",
       "      <td>23/04/2022</td>\n",
       "      <td>USD</td>\n",
       "      <td>2,000</td>\n",
       "      <td>INVOICE</td>\n",
       "      <td>-18</td>\n",
       "      <td>2,000</td>\n",
       "      <td>3/24/2022 17:46</td>\n",
       "    </tr>\n",
       "    <tr>\n",
       "      <th>3</th>\n",
       "      <td>04-APR-2022 01:07:01</td>\n",
       "      <td>Related Party</td>\n",
       "      <td>AL R Corp</td>\n",
       "      <td>23312.0</td>\n",
       "      <td>100220000001</td>\n",
       "      <td>04/01/2022</td>\n",
       "      <td>15 Days from Inv Date</td>\n",
       "      <td>19/01/2022</td>\n",
       "      <td>AED</td>\n",
       "      <td>2,415</td>\n",
       "      <td>INVOICE</td>\n",
       "      <td>76</td>\n",
       "      <td>2,415</td>\n",
       "      <td>1/5/2022 11:49</td>\n",
       "    </tr>\n",
       "    <tr>\n",
       "      <th>4</th>\n",
       "      <td>04-APR-2022 01:07:01</td>\n",
       "      <td>Related Party</td>\n",
       "      <td>ALLI Corp</td>\n",
       "      <td>7530.0</td>\n",
       "      <td>100220000105</td>\n",
       "      <td>03/03/2022</td>\n",
       "      <td>30 Days from EOM</td>\n",
       "      <td>30/04/2022</td>\n",
       "      <td>AED</td>\n",
       "      <td>3,800</td>\n",
       "      <td>INVOICE</td>\n",
       "      <td>-25</td>\n",
       "      <td>3,800</td>\n",
       "      <td>3/3/2022 22:30</td>\n",
       "    </tr>\n",
       "  </tbody>\n",
       "</table>\n",
       "</div>"
      ],
      "text/plain": [
       "             AS_OF_DATE  Customer Type Customer_Name  Customer Account No  \\\n",
       "0  04-APR-2022 01:07:01      3rd Party     GIVE Corp              49144.0   \n",
       "1  04-APR-2022 01:07:01  Related Party     AL J Corp              23152.0   \n",
       "2  04-APR-2022 01:07:01  Related Party     AL J Corp              23152.0   \n",
       "3  04-APR-2022 01:07:01  Related Party     AL R Corp              23312.0   \n",
       "4  04-APR-2022 01:07:01  Related Party     ALLI Corp               7530.0   \n",
       "\n",
       "  Transaction Number Transaction Date           Payment Term    Due Date  \\\n",
       "0       100210000438       21/12/2021              Immediate  21/12/2021   \n",
       "1       100220000052       01/02/2022  30 Days from Inv Date  03/03/2022   \n",
       "2       100220000143       24/03/2022  30 Days from Inv Date  23/04/2022   \n",
       "3       100220000001       04/01/2022  15 Days from Inv Date  19/01/2022   \n",
       "4       100220000105       03/03/2022       30 Days from EOM  30/04/2022   \n",
       "\n",
       "  Transaction Currency Local Amount Transaction Class  AGE USD Amount  \\\n",
       "0                  AED       -3,088       CREDIT NOTE  105     -3,088   \n",
       "1                  USD        2,000           INVOICE   33      2,000   \n",
       "2                  USD        2,000           INVOICE  -18      2,000   \n",
       "3                  AED        2,415           INVOICE   76      2,415   \n",
       "4                  AED        3,800           INVOICE  -25      3,800   \n",
       "\n",
       "  INV_CREATION_DATE  \n",
       "0  12/21/2021 12:53  \n",
       "1    2/1/2022 14:09  \n",
       "2   3/24/2022 17:46  \n",
       "3    1/5/2022 11:49  \n",
       "4    3/3/2022 22:30  "
      ]
     },
     "execution_count": 3,
     "metadata": {},
     "output_type": "execute_result"
    }
   ],
   "source": [
    "# import Open Invoice data\n",
    "open = pd.read_csv('data/Open_Invoice_data.csv', encoding='UTF-8', encoding_errors='replace')\n",
    "open.head()"
   ]
  },
  {
   "cell_type": "code",
   "execution_count": 4,
   "metadata": {},
   "outputs": [
    {
     "data": {
      "text/html": [
       "<div>\n",
       "<style scoped>\n",
       "    .dataframe tbody tr th:only-of-type {\n",
       "        vertical-align: middle;\n",
       "    }\n",
       "\n",
       "    .dataframe tbody tr th {\n",
       "        vertical-align: top;\n",
       "    }\n",
       "\n",
       "    .dataframe thead th {\n",
       "        text-align: right;\n",
       "    }\n",
       "</style>\n",
       "<table border=\"1\" class=\"dataframe\">\n",
       "  <thead>\n",
       "    <tr style=\"text-align: right;\">\n",
       "      <th></th>\n",
       "      <th>AS_OF_DATE</th>\n",
       "      <th>Customer Type</th>\n",
       "      <th>Customer_Name</th>\n",
       "      <th>Customer Account No</th>\n",
       "      <th>Transaction Number</th>\n",
       "      <th>Transaction Date</th>\n",
       "      <th>Payment Term</th>\n",
       "      <th>Due Date</th>\n",
       "      <th>Transaction Currency</th>\n",
       "      <th>Local Amount</th>\n",
       "      <th>Transaction Class</th>\n",
       "      <th>AGE</th>\n",
       "      <th>USD Amount</th>\n",
       "      <th>INV_CREATION_DATE</th>\n",
       "    </tr>\n",
       "  </thead>\n",
       "  <tbody>\n",
       "    <tr>\n",
       "      <th>1084</th>\n",
       "      <td>04-APR-2022 01:07:01</td>\n",
       "      <td>Related Party</td>\n",
       "      <td>MANF Corp</td>\n",
       "      <td>48601.0</td>\n",
       "      <td>RTD-�55,915.30-260721</td>\n",
       "      <td>26/07/2021</td>\n",
       "      <td>Immediate</td>\n",
       "      <td>26/07/2021</td>\n",
       "      <td>SAR</td>\n",
       "      <td>-151</td>\n",
       "      <td>PAYMENT</td>\n",
       "      <td>253</td>\n",
       "      <td>-40</td>\n",
       "      <td>7/27/2021 23:37</td>\n",
       "    </tr>\n",
       "  </tbody>\n",
       "</table>\n",
       "</div>"
      ],
      "text/plain": [
       "                AS_OF_DATE  Customer Type Customer_Name  Customer Account No  \\\n",
       "1084  04-APR-2022 01:07:01  Related Party     MANF Corp              48601.0   \n",
       "\n",
       "         Transaction Number Transaction Date Payment Term    Due Date  \\\n",
       "1084  RTD-�55,915.30-260721       26/07/2021    Immediate  26/07/2021   \n",
       "\n",
       "     Transaction Currency Local Amount Transaction Class  AGE USD Amount  \\\n",
       "1084                  SAR         -151           PAYMENT  253        -40   \n",
       "\n",
       "     INV_CREATION_DATE  \n",
       "1084   7/27/2021 23:37  "
      ]
     },
     "execution_count": 4,
     "metadata": {},
     "output_type": "execute_result"
    }
   ],
   "source": [
    "open[open['Transaction Number'] == 'RTD-�55,915.30-260721']"
   ]
  },
  {
   "cell_type": "markdown",
   "metadata": {},
   "source": [
    "### Refine the Data"
   ]
  },
  {
   "cell_type": "code",
   "execution_count": 5,
   "metadata": {},
   "outputs": [
    {
     "name": "stdout",
     "output_type": "stream",
     "text": [
      "<class 'pandas.core.frame.DataFrame'>\n",
      "RangeIndex: 93937 entries, 0 to 93936\n",
      "Data columns (total 16 columns):\n",
      " #   Column                 Non-Null Count  Dtype  \n",
      "---  ------                 --------------  -----  \n",
      " 0   RECEIPT_METHOD         93937 non-null  object \n",
      " 1   CUSTOMER_NAME          93937 non-null  object \n",
      " 2   CUSTOMER_NUMBER        93937 non-null  int64  \n",
      " 3   RECEIPT_DOC_NO         93908 non-null  float64\n",
      " 4   RECEIPT_DATE           93937 non-null  object \n",
      " 5   CLASS                  93937 non-null  object \n",
      " 6   CURRENCY_CODE          93937 non-null  object \n",
      " 7   Local Amount           93937 non-null  float64\n",
      " 8   USD Amount             93937 non-null  float64\n",
      " 9   INVOICE_ALLOCATED      93937 non-null  object \n",
      " 10  INVOICE_CREATION_DATE  93937 non-null  object \n",
      " 11  DUE_DATE               93937 non-null  object \n",
      " 12  PAYMENT_TERM           93937 non-null  object \n",
      " 13  INVOICE_CLASS          93937 non-null  object \n",
      " 14  INVOICE_CURRENCY_CODE  93937 non-null  object \n",
      " 15  INVOICE_TYPE           93937 non-null  object \n",
      "dtypes: float64(3), int64(1), object(12)\n",
      "memory usage: 11.5+ MB\n"
     ]
    }
   ],
   "source": [
    "# check variable types\n",
    "received.info()"
   ]
  },
  {
   "cell_type": "code",
   "execution_count": 6,
   "metadata": {},
   "outputs": [],
   "source": [
    "# Remove unecessary columns based on the Data Dictionary\n",
    "received.drop(inplace=True, columns=[\n",
    "    'RECEIPT_DOC_NO',  # reference number\n",
    "    'Local Amount', # use USD amount instead\n",
    "    'INVOICE_ALLOCATED', # reference number\n",
    "    'CUSTOMER_NAME', # use CUSTOMER_NUMBER instead\n",
    "])"
   ]
  },
  {
   "cell_type": "code",
   "execution_count": 7,
   "metadata": {},
   "outputs": [],
   "source": [
    "# Remove records with Invoice Value equal to 0\n",
    "received = received[received['USD Amount'] != 0]"
   ]
  },
  {
   "cell_type": "code",
   "execution_count": 8,
   "metadata": {},
   "outputs": [],
   "source": [
    "# format date variables\n",
    "date_cols = ['RECEIPT_DATE', 'INVOICE_CREATION_DATE', 'DUE_DATE']\n",
    "\n",
    "for col in date_cols:\n",
    "    received[col] = pd.to_datetime(received[col], format='%d-%b-%y')"
   ]
  },
  {
   "cell_type": "code",
   "execution_count": 9,
   "metadata": {},
   "outputs": [],
   "source": [
    "# calculate TARGET variable\n",
    "received['LATE_PAYMENT'] = received.apply(\n",
    "    lambda x: \n",
    "        1 if (x['DUE_DATE'] - x['RECEIPT_DATE']).days < 0 # if Receipt Date is after Due Date then return 1\n",
    "        else 0\n",
    "    , axis= 1\n",
    ")"
   ]
  },
  {
   "cell_type": "code",
   "execution_count": 10,
   "metadata": {},
   "outputs": [
    {
     "name": "stdout",
     "output_type": "stream",
     "text": [
      "RECEIPT_METHOD\n",
      "WIRE             0.897318\n",
      "AP/AR Netting    0.052224\n",
      "CHEQUE           0.037409\n",
      "CASH             0.008426\n",
      "I/C WIRE         0.002273\n",
      "PDC              0.002263\n",
      "I/C Check        0.000065\n",
      "I/C CASH         0.000022\n",
      "Name: proportion, dtype: float64\n",
      "\n",
      " ------------------------------------------- \n",
      "\n",
      "CLASS\n",
      "PMT    1.0\n",
      "Name: proportion, dtype: float64\n",
      "\n",
      " ------------------------------------------- \n",
      "\n",
      "CURRENCY_CODE\n",
      "AED    0.388176\n",
      "SAR    0.385558\n",
      "USD    0.208607\n",
      "EUR    0.015494\n",
      "GBP    0.001401\n",
      "BHD    0.000636\n",
      "KWD    0.000108\n",
      "QAR    0.000022\n",
      "Name: proportion, dtype: float64\n",
      "\n",
      " ------------------------------------------- \n",
      "\n",
      "PAYMENT_TERM\n",
      "60 Days from Inv Date                                      0.212712\n",
      "30 Days from Inv Date                                      0.151081\n",
      "60 Days from EOM                                           0.134812\n",
      "30 Days from EOM                                           0.121764\n",
      "15 Days from EOM                                           0.081165\n",
      "Immediate Payment                                          0.058915\n",
      "Immediate                                                  0.053291\n",
      "90 Days from EOM                                           0.041945\n",
      "45 Days from Inv Date                                      0.038250\n",
      "45 Days from EOM                                           0.037808\n",
      "90 Days from Inv Date                                      0.023823\n",
      "100% Adv Payment                                           0.013339\n",
      "25 DAYS FROM EOM                                           0.004978\n",
      "Cash on Delivery                                           0.004504\n",
      "15 Days from Inv Date                                      0.003836\n",
      "45 DAYS + EOM                                              0.003469\n",
      "On Consignment                                             0.002844\n",
      "EOM                                                        0.002500\n",
      "75 Days from EOM                                           0.002123\n",
      "120 Days from Inv Date                                     0.001314\n",
      "LC at 60 days                                              0.001239\n",
      "50% Advance 50% INVDATE+60 DAYS                            0.001013\n",
      "75 Days from Inv Date                                      0.000636\n",
      "7 Days from Inv Date                                       0.000496\n",
      "50% ADV 50% 30 Days                                        0.000474\n",
      "LCSight                                                    0.000334\n",
      "LC at 90 days                                              0.000312\n",
      "195 days from Invoice Date                                 0.000248\n",
      "LC at 60 days from FCR/AWB/BL date                         0.000194\n",
      "30% advance 70% after 60 days from invoice date            0.000151\n",
      "50% ADVANCE PAYMENT AND 50% UPON RECEIVING THE SHIPMENT    0.000086\n",
      "Cash Against Document at sight                             0.000065\n",
      "30% advance 70% after 30 days from invoice date            0.000065\n",
      "365 DAYS FROM INVOICE DATE                                 0.000054\n",
      "25% ADVANCE, 75% 30 DAYS FROM INVOICE DATE                 0.000043\n",
      "Standby LC at 30 days                                      0.000022\n",
      "40 DAYS FROM EOM                                           0.000022\n",
      "Advance with discount                                      0.000022\n",
      "50% at 30 days and 50% at 60 days                          0.000022\n",
      "120 Days from EOM                                          0.000011\n",
      "180 DAYS FROM INV DATE                                     0.000011\n",
      "7 Days from EOM                                            0.000011\n",
      "Name: proportion, dtype: float64\n",
      "\n",
      " ------------------------------------------- \n",
      "\n",
      "INVOICE_CLASS\n",
      "INV    0.940761\n",
      "CM     0.053291\n",
      "DM     0.005948\n",
      "Name: proportion, dtype: float64\n",
      "\n",
      " ------------------------------------------- \n",
      "\n",
      "INVOICE_CURRENCY_CODE\n",
      "SAR    0.414725\n",
      "AED    0.346069\n",
      "USD    0.198134\n",
      "EUR    0.016356\n",
      "KWD    0.011723\n",
      "QAR    0.006583\n",
      "BHD    0.004310\n",
      "GBP    0.001444\n",
      "JOD    0.000409\n",
      "ZAR    0.000248\n",
      "Name: proportion, dtype: float64\n",
      "\n",
      " ------------------------------------------- \n",
      "\n",
      "INVOICE_TYPE\n",
      "Goods        0.717253\n",
      "Non Goods    0.282747\n",
      "Name: proportion, dtype: float64\n",
      "\n",
      " ------------------------------------------- \n",
      "\n"
     ]
    }
   ],
   "source": [
    "# assign categorical variables\n",
    "cate_cols = received.select_dtypes(include=['object']).columns.to_list()\n",
    "\n",
    "# check the values in the categorical variables\n",
    "for i in cate_cols:\n",
    "    print(received[i].value_counts(normalize=True))\n",
    "    print('\\n ------------------------------------------- \\n')"
   ]
  },
  {
   "cell_type": "code",
   "execution_count": 11,
   "metadata": {},
   "outputs": [],
   "source": [
    "# remaping some of the categorical values\n",
    "received['PAYMENT_TERM'] = received['PAYMENT_TERM'].replace({'Immediate' : 'Immediate Payment'})\n",
    "\n",
    "# binary transform\n",
    "received['INVOICE_TYPE-GOODS'] = received['INVOICE_TYPE'].map({'Goods' : 1, 'Non Goods' : 0}).astype(int)\n",
    "received.drop(columns= 'INVOICE_TYPE', inplace=True)\n",
    "\n",
    "received['INVOICE_CLASS-INV'] = received['INVOICE_CLASS'].map({'INV' : 1, 'CM' : 0, 'DM' : 0}).astype(int)\n",
    "received.drop(columns= 'INVOICE_CLASS', inplace=True)\n",
    "\n",
    "# drop feature with 1 value\n",
    "received.drop(columns= 'CLASS', inplace= True)"
   ]
  },
  {
   "cell_type": "code",
   "execution_count": 12,
   "metadata": {},
   "outputs": [],
   "source": [
    "# define function to quickly map insignificant values to 'other'\n",
    "def remove_insignificants(data, threshold = 0.05):\n",
    "    proportions = data.value_counts(normalize=True)\n",
    "\n",
    "    # Create a list of categories to keep (above the threshold)\n",
    "    significant_categories = proportions[proportions > threshold].index.tolist()\n",
    "\n",
    "    # Create a mapping where significant categories map to themselves and others map to 'Other'\n",
    "    mapping = {category: (category if category in significant_categories else 'other') for category in data.unique()}\n",
    "\n",
    "    # Apply the mapping to the DataFrame\n",
    "    data.replace(mapping, inplace = True)"
   ]
  },
  {
   "cell_type": "code",
   "execution_count": 13,
   "metadata": {},
   "outputs": [],
   "source": [
    "# reduce the insignificants in the dataset\n",
    "remove_insignificants(received['RECEIPT_METHOD'], 0.03)\n",
    "remove_insignificants(received['CURRENCY_CODE'], 0.02)\n",
    "remove_insignificants(received['PAYMENT_TERM'], 0.01)\n",
    "remove_insignificants(received['INVOICE_CURRENCY_CODE'], 0.02)"
   ]
  },
  {
   "cell_type": "code",
   "execution_count": 14,
   "metadata": {},
   "outputs": [],
   "source": [
    "# re-assign categorical variables\n",
    "cate_cols = received.select_dtypes(include=['object']).columns.to_list()"
   ]
  },
  {
   "cell_type": "markdown",
   "metadata": {},
   "source": [
    "### Check for outliers"
   ]
  },
  {
   "cell_type": "code",
   "execution_count": 15,
   "metadata": {},
   "outputs": [],
   "source": [
    "num_cols = ['USD Amount']"
   ]
  },
  {
   "cell_type": "code",
   "execution_count": 16,
   "metadata": {},
   "outputs": [
    {
     "data": {
      "text/plain": [
       "<Axes: xlabel='USD Amount'>"
      ]
     },
     "execution_count": 16,
     "metadata": {},
     "output_type": "execute_result"
    },
    {
     "data": {
      "image/png": "[encoded data removed]",
      "text/plain": [
       "<Figure size 1400x200 with 1 Axes>"
      ]
     },
     "metadata": {},
     "output_type": "display_data"
    }
   ],
   "source": [
    "# plot the outliers using boxplot\n",
    "plt.figure(figsize= (14, 2))\n",
    "sns.boxplot(received['USD Amount'].astype(int), orient= 'h')"
   ]
  },
  {
   "cell_type": "code",
   "execution_count": 17,
   "metadata": {},
   "outputs": [
    {
     "data": {
      "text/plain": [
       "count       92811\n",
       "mean       537645\n",
       "std        954807\n",
       "min             1\n",
       "5%           2572\n",
       "10%          7829\n",
       "25%         40452\n",
       "50%        191287\n",
       "75%        599613\n",
       "90%       1257455\n",
       "95%       2101629\n",
       "97%       2771599\n",
       "99%       5814128\n",
       "max      10849828\n",
       "Name: USD Amount, dtype: int64"
      ]
     },
     "execution_count": 17,
     "metadata": {},
     "output_type": "execute_result"
    }
   ],
   "source": [
    "# use quartiles to remove outliers\n",
    "received['USD Amount'].describe(percentiles=[.05, .1, .25, .5, .75, .9, .95, .97, .99]).astype(int)"
   ]
  },
  {
   "cell_type": "markdown",
   "metadata": {},
   "source": [
    "> There are outliers in the 'USD Amount' that will have negative impact on the model's performance"
   ]
  },
  {
   "cell_type": "code",
   "execution_count": 18,
   "metadata": {},
   "outputs": [],
   "source": [
    "# remove the outliers base on the quantile 95%\n",
    "received = received[received['USD Amount'] < received['USD Amount'].quantile(0.95)]"
   ]
  },
  {
   "cell_type": "markdown",
   "metadata": {},
   "source": [
    "## Clustering on Customer-level"
   ]
  },
  {
   "cell_type": "markdown",
   "metadata": {},
   "source": [
    "#### Prepare customer-level data"
   ]
  },
  {
   "cell_type": "code",
   "execution_count": 19,
   "metadata": {},
   "outputs": [
    {
     "data": {
      "text/plain": [
       "count    87955\n",
       "mean       -68\n",
       "std        198\n",
       "min      -3873\n",
       "1%       -1047\n",
       "2%        -863\n",
       "5%        -467\n",
       "10%       -127\n",
       "25%        -47\n",
       "50%        -12\n",
       "75%          4\n",
       "90%         16\n",
       "95%         29\n",
       "97%         37\n",
       "99%         59\n",
       "max        340\n",
       "Name: DAYS_EARLY, dtype: int64"
      ]
     },
     "execution_count": 19,
     "metadata": {},
     "output_type": "execute_result"
    }
   ],
   "source": [
    "# calculate how early the payment was\n",
    "received['DAYS_EARLY'] = (received['DUE_DATE'] - received['RECEIPT_DATE']).dt.days\n",
    "\n",
    "# check outliers\n",
    "received['DAYS_EARLY'].describe(percentiles=[.01, .02, .05, .1, .25, .5, .75, .9, .95, .97, .99]).astype(int)"
   ]
  },
  {
   "cell_type": "code",
   "execution_count": 20,
   "metadata": {},
   "outputs": [],
   "source": [
    "# late than 1 year will be considered the same\n",
    "received['DAYS_EARLY_CAPPED'] = received['DAYS_EARLY'].clip(lower=-365, upper=60)"
   ]
  },
  {
   "cell_type": "code",
   "execution_count": 21,
   "metadata": {},
   "outputs": [
    {
     "data": {
      "text/html": [
       "<div>\n",
       "<style scoped>\n",
       "    .dataframe tbody tr th:only-of-type {\n",
       "        vertical-align: middle;\n",
       "    }\n",
       "\n",
       "    .dataframe tbody tr th {\n",
       "        vertical-align: top;\n",
       "    }\n",
       "\n",
       "    .dataframe thead th {\n",
       "        text-align: right;\n",
       "    }\n",
       "</style>\n",
       "<table border=\"1\" class=\"dataframe\">\n",
       "  <thead>\n",
       "    <tr style=\"text-align: right;\">\n",
       "      <th></th>\n",
       "      <th>CUSTOMER_NUMBER</th>\n",
       "      <th>AVG_DAYS_EARLY_CAPPED</th>\n",
       "      <th>STD_DAYS_EARLY_CAPPED</th>\n",
       "    </tr>\n",
       "  </thead>\n",
       "  <tbody>\n",
       "    <tr>\n",
       "      <th>0</th>\n",
       "      <td>1044</td>\n",
       "      <td>-57.269147</td>\n",
       "      <td>99.010107</td>\n",
       "    </tr>\n",
       "    <tr>\n",
       "      <th>1</th>\n",
       "      <td>1076</td>\n",
       "      <td>-10.664000</td>\n",
       "      <td>27.722689</td>\n",
       "    </tr>\n",
       "    <tr>\n",
       "      <th>2</th>\n",
       "      <td>1146</td>\n",
       "      <td>-110.100000</td>\n",
       "      <td>146.279243</td>\n",
       "    </tr>\n",
       "    <tr>\n",
       "      <th>3</th>\n",
       "      <td>1154</td>\n",
       "      <td>-41.476190</td>\n",
       "      <td>86.937518</td>\n",
       "    </tr>\n",
       "    <tr>\n",
       "      <th>4</th>\n",
       "      <td>1192</td>\n",
       "      <td>-63.407407</td>\n",
       "      <td>20.428598</td>\n",
       "    </tr>\n",
       "  </tbody>\n",
       "</table>\n",
       "</div>"
      ],
      "text/plain": [
       "   CUSTOMER_NUMBER  AVG_DAYS_EARLY_CAPPED  STD_DAYS_EARLY_CAPPED\n",
       "0             1044             -57.269147              99.010107\n",
       "1             1076             -10.664000              27.722689\n",
       "2             1146            -110.100000             146.279243\n",
       "3             1154             -41.476190              86.937518\n",
       "4             1192             -63.407407              20.428598"
      ]
     },
     "execution_count": 21,
     "metadata": {},
     "output_type": "execute_result"
    }
   ],
   "source": [
    "# calculate the average and standard deviation of each Customer\n",
    "## the average days early indicates how on time the customer paid their payments\n",
    "## the standard deviation indicates how consistent the customer was in making payments\n",
    "customers = received.groupby('CUSTOMER_NUMBER').agg({'DAYS_EARLY_CAPPED': ['mean', 'std']}).fillna(0)\n",
    "customers.reset_index(inplace=True)\n",
    "customers.columns = ['CUSTOMER_NUMBER', 'AVG_DAYS_EARLY_CAPPED', 'STD_DAYS_EARLY_CAPPED']\n",
    "customers.head()"
   ]
  },
  {
   "cell_type": "code",
   "execution_count": 22,
   "metadata": {},
   "outputs": [
    {
     "data": {
      "image/png": "[encoded data removed]",
      "text/plain": [
       "<Figure size 640x480 with 2 Axes>"
      ]
     },
     "metadata": {},
     "output_type": "display_data"
    }
   ],
   "source": [
    "# plot the outliers using boxplot\n",
    "plt.subplot(2, 1, 1)\n",
    "sns.boxplot(customers['AVG_DAYS_EARLY_CAPPED'], orient= 'h')\n",
    "plt.subplot(2, 1, 2)\n",
    "sns.boxplot(customers['STD_DAYS_EARLY_CAPPED'], orient= 'h')\n",
    "plt.tight_layout()\n",
    "plt.show()"
   ]
  },
  {
   "cell_type": "code",
   "execution_count": 23,
   "metadata": {},
   "outputs": [],
   "source": [
    "# pick out the outliers customers\n",
    "customers_inliers = customers[\n",
    "    (customers['AVG_DAYS_EARLY_CAPPED'] > -150) \n",
    "    & (customers['STD_DAYS_EARLY_CAPPED'] < 100)\n",
    "    ]\n",
    "df_clustering = customers_inliers[['AVG_DAYS_EARLY_CAPPED', 'STD_DAYS_EARLY_CAPPED']]"
   ]
  },
  {
   "cell_type": "markdown",
   "metadata": {},
   "source": [
    "#### Scaling"
   ]
  },
  {
   "cell_type": "code",
   "execution_count": 24,
   "metadata": {},
   "outputs": [
    {
     "data": {
      "text/html": [
       "<div>\n",
       "<style scoped>\n",
       "    .dataframe tbody tr th:only-of-type {\n",
       "        vertical-align: middle;\n",
       "    }\n",
       "\n",
       "    .dataframe tbody tr th {\n",
       "        vertical-align: top;\n",
       "    }\n",
       "\n",
       "    .dataframe thead th {\n",
       "        text-align: right;\n",
       "    }\n",
       "</style>\n",
       "<table border=\"1\" class=\"dataframe\">\n",
       "  <thead>\n",
       "    <tr style=\"text-align: right;\">\n",
       "      <th></th>\n",
       "      <th>AVG_DAYS_EARLY_CAPPED</th>\n",
       "      <th>STD_DAYS_EARLY_CAPPED</th>\n",
       "    </tr>\n",
       "  </thead>\n",
       "  <tbody>\n",
       "    <tr>\n",
       "      <th>0</th>\n",
       "      <td>-0.940927</td>\n",
       "      <td>3.225049</td>\n",
       "    </tr>\n",
       "    <tr>\n",
       "      <th>1</th>\n",
       "      <td>0.244832</td>\n",
       "      <td>0.176166</td>\n",
       "    </tr>\n",
       "    <tr>\n",
       "      <th>2</th>\n",
       "      <td>-0.539112</td>\n",
       "      <td>2.708718</td>\n",
       "    </tr>\n",
       "    <tr>\n",
       "      <th>3</th>\n",
       "      <td>-1.097101</td>\n",
       "      <td>-0.135794</td>\n",
       "    </tr>\n",
       "    <tr>\n",
       "      <th>4</th>\n",
       "      <td>-0.678156</td>\n",
       "      <td>3.226162</td>\n",
       "    </tr>\n",
       "  </tbody>\n",
       "</table>\n",
       "</div>"
      ],
      "text/plain": [
       "   AVG_DAYS_EARLY_CAPPED  STD_DAYS_EARLY_CAPPED\n",
       "0              -0.940927               3.225049\n",
       "1               0.244832               0.176166\n",
       "2              -0.539112               2.708718\n",
       "3              -1.097101              -0.135794\n",
       "4              -0.678156               3.226162"
      ]
     },
     "execution_count": 24,
     "metadata": {},
     "output_type": "execute_result"
    }
   ],
   "source": [
    "# instantiate the scaler\n",
    "scaler = StandardScaler()\n",
    "\n",
    "# fit transform the data\n",
    "df_scaled =  scaler.fit_transform(df_clustering)\n",
    "df_scaled = pd.DataFrame(df_scaled, columns=['AVG_DAYS_EARLY_CAPPED', 'STD_DAYS_EARLY_CAPPED'])\n",
    "df_scaled.head()"
   ]
  },
  {
   "cell_type": "markdown",
   "metadata": {},
   "source": [
    "#### Hierarchical Clustering"
   ]
  },
  {
   "cell_type": "code",
   "execution_count": 25,
   "metadata": {},
   "outputs": [
    {
     "data": {
      "image/png": "[encoded data removed]",
      "text/plain": [
       "<Figure size 640x480 with 1 Axes>"
      ]
     },
     "metadata": {},
     "output_type": "display_data"
    }
   ],
   "source": [
    "# hierarchical Clustering using Complete Linkage\n",
    "mergings = linkage(df_scaled[['AVG_DAYS_EARLY_CAPPED', 'STD_DAYS_EARLY_CAPPED']], method=\"complete\", metric=\"euclidean\")\n",
    "dendrogram(mergings)\n",
    "plt.show()"
   ]
  },
  {
   "cell_type": "code",
   "execution_count": 26,
   "metadata": {},
   "outputs": [
    {
     "name": "stderr",
     "output_type": "stream",
     "text": [
      "C:\\Users\\ADMIN\\AppData\\Local\\Temp\\ipykernel_31232\\1566788971.py:5: SettingWithCopyWarning: \n",
      "A value is trying to be set on a copy of a slice from a DataFrame.\n",
      "Try using .loc[row_indexer,col_indexer] = value instead\n",
      "\n",
      "See the caveats in the documentation: https://pandas.pydata.org/pandas-docs/stable/user_guide/indexing.html#returning-a-view-versus-a-copy\n",
      "  customers_inliers.loc[:, 'SEGMENT_ID'] = clusters_labels.copy()\n"
     ]
    },
    {
     "data": {
      "text/html": [
       "<div>\n",
       "<style scoped>\n",
       "    .dataframe tbody tr th:only-of-type {\n",
       "        vertical-align: middle;\n",
       "    }\n",
       "\n",
       "    .dataframe tbody tr th {\n",
       "        vertical-align: top;\n",
       "    }\n",
       "\n",
       "    .dataframe thead th {\n",
       "        text-align: right;\n",
       "    }\n",
       "</style>\n",
       "<table border=\"1\" class=\"dataframe\">\n",
       "  <thead>\n",
       "    <tr style=\"text-align: right;\">\n",
       "      <th></th>\n",
       "      <th>CUSTOMER_NUMBER</th>\n",
       "      <th>AVG_DAYS_EARLY_CAPPED</th>\n",
       "      <th>STD_DAYS_EARLY_CAPPED</th>\n",
       "      <th>SEGMENT_ID</th>\n",
       "    </tr>\n",
       "  </thead>\n",
       "  <tbody>\n",
       "    <tr>\n",
       "      <th>0</th>\n",
       "      <td>1044</td>\n",
       "      <td>-57.269147</td>\n",
       "      <td>99.010107</td>\n",
       "      <td>0</td>\n",
       "    </tr>\n",
       "    <tr>\n",
       "      <th>1</th>\n",
       "      <td>1076</td>\n",
       "      <td>-10.664000</td>\n",
       "      <td>27.722689</td>\n",
       "      <td>1</td>\n",
       "    </tr>\n",
       "    <tr>\n",
       "      <th>3</th>\n",
       "      <td>1154</td>\n",
       "      <td>-41.476190</td>\n",
       "      <td>86.937518</td>\n",
       "      <td>2</td>\n",
       "    </tr>\n",
       "    <tr>\n",
       "      <th>4</th>\n",
       "      <td>1192</td>\n",
       "      <td>-63.407407</td>\n",
       "      <td>20.428598</td>\n",
       "      <td>3</td>\n",
       "    </tr>\n",
       "    <tr>\n",
       "      <th>5</th>\n",
       "      <td>1198</td>\n",
       "      <td>-46.941176</td>\n",
       "      <td>99.036129</td>\n",
       "      <td>2</td>\n",
       "    </tr>\n",
       "  </tbody>\n",
       "</table>\n",
       "</div>"
      ],
      "text/plain": [
       "   CUSTOMER_NUMBER  AVG_DAYS_EARLY_CAPPED  STD_DAYS_EARLY_CAPPED  SEGMENT_ID\n",
       "0             1044             -57.269147              99.010107           0\n",
       "1             1076             -10.664000              27.722689           1\n",
       "3             1154             -41.476190              86.937518           2\n",
       "4             1192             -63.407407              20.428598           3\n",
       "5             1198             -46.941176              99.036129           2"
      ]
     },
     "execution_count": 26,
     "metadata": {},
     "output_type": "execute_result"
    }
   ],
   "source": [
    "# cut at 4 clusters\n",
    "clusters_labels = cut_tree(mergings, n_clusters=4).reshape(-1, )\n",
    "\n",
    "# asign clusters labels\n",
    "customers_inliers.loc[:, 'SEGMENT_ID'] = clusters_labels.copy()\n",
    "customers_inliers.head()"
   ]
  },
  {
   "cell_type": "code",
   "execution_count": 27,
   "metadata": {},
   "outputs": [
    {
     "data": {
      "image/png": "[encoded data removed]",
      "text/plain": [
       "<Figure size 1000x400 with 2 Axes>"
      ]
     },
     "metadata": {},
     "output_type": "display_data"
    }
   ],
   "source": [
    "# plot the mean of each Hierarchical cluster\n",
    "fig, axs = plt.subplots(1, 2, figsize=(10, 4))\n",
    "sns.boxplot(x='SEGMENT_ID', y='AVG_DAYS_EARLY_CAPPED', data=customers_inliers, ax=axs[0])\n",
    "sns.boxplot(x='SEGMENT_ID', y='STD_DAYS_EARLY_CAPPED', data=customers_inliers, ax=axs[1])\n",
    "plt.tight_layout()"
   ]
  },
  {
   "cell_type": "markdown",
   "metadata": {},
   "source": [
    "> We have ourselve 4 customers segments with different characteristics:\n",
    "- `SEGMENT_ID` 0 : Customers who make very late payments, with inconsistent late payment durations.\n",
    "- `SEGMENT_ID` 1 : Customers who consistently make on-time payments.\n",
    "- `SEGMENT_ID` 2 : Customers who are kinda late, and have inconsistent late payment durations.\n",
    "- `SEGMENT_ID` 3 : Customers who consistently make late payments."
   ]
  },
  {
   "cell_type": "code",
   "execution_count": 28,
   "metadata": {},
   "outputs": [
    {
     "data": {
      "text/html": [
       "<div>\n",
       "<style scoped>\n",
       "    .dataframe tbody tr th:only-of-type {\n",
       "        vertical-align: middle;\n",
       "    }\n",
       "\n",
       "    .dataframe tbody tr th {\n",
       "        vertical-align: top;\n",
       "    }\n",
       "\n",
       "    .dataframe thead th {\n",
       "        text-align: right;\n",
       "    }\n",
       "</style>\n",
       "<table border=\"1\" class=\"dataframe\">\n",
       "  <thead>\n",
       "    <tr style=\"text-align: right;\">\n",
       "      <th></th>\n",
       "      <th>CUSTOMER_NUMBER</th>\n",
       "      <th>AVG_DAYS_EARLY_CAPPED</th>\n",
       "      <th>STD_DAYS_EARLY_CAPPED</th>\n",
       "      <th>SEGMENT_ID</th>\n",
       "    </tr>\n",
       "  </thead>\n",
       "  <tbody>\n",
       "    <tr>\n",
       "      <th>0</th>\n",
       "      <td>1044</td>\n",
       "      <td>-57.269147</td>\n",
       "      <td>99.010107</td>\n",
       "      <td>0</td>\n",
       "    </tr>\n",
       "    <tr>\n",
       "      <th>1</th>\n",
       "      <td>1076</td>\n",
       "      <td>-10.664000</td>\n",
       "      <td>27.722689</td>\n",
       "      <td>1</td>\n",
       "    </tr>\n",
       "    <tr>\n",
       "      <th>2</th>\n",
       "      <td>1146</td>\n",
       "      <td>-110.100000</td>\n",
       "      <td>146.279243</td>\n",
       "      <td>0</td>\n",
       "    </tr>\n",
       "    <tr>\n",
       "      <th>3</th>\n",
       "      <td>1154</td>\n",
       "      <td>-41.476190</td>\n",
       "      <td>86.937518</td>\n",
       "      <td>2</td>\n",
       "    </tr>\n",
       "    <tr>\n",
       "      <th>4</th>\n",
       "      <td>1192</td>\n",
       "      <td>-63.407407</td>\n",
       "      <td>20.428598</td>\n",
       "      <td>3</td>\n",
       "    </tr>\n",
       "  </tbody>\n",
       "</table>\n",
       "</div>"
      ],
      "text/plain": [
       "   CUSTOMER_NUMBER  AVG_DAYS_EARLY_CAPPED  STD_DAYS_EARLY_CAPPED  SEGMENT_ID\n",
       "0             1044             -57.269147              99.010107           0\n",
       "1             1076             -10.664000              27.722689           1\n",
       "2             1146            -110.100000             146.279243           0\n",
       "3             1154             -41.476190              86.937518           2\n",
       "4             1192             -63.407407              20.428598           3"
      ]
     },
     "execution_count": 28,
     "metadata": {},
     "output_type": "execute_result"
    }
   ],
   "source": [
    "# merge the clusters labels back into customers data\n",
    "customers = customers.merge(customers_inliers[['CUSTOMER_NUMBER', 'SEGMENT_ID']], how='left', on='CUSTOMER_NUMBER')\n",
    "\n",
    "# fill the outliers with segment_id = 0, since they have the same characteristics (late for for than 150 days, with high STD)\n",
    "customers['SEGMENT_ID'] = customers['SEGMENT_ID'].fillna(0)\n",
    "\n",
    "# correct the variable type\n",
    "customers['SEGMENT_ID'] = customers['SEGMENT_ID'].astype(int)\n",
    "customers.head()"
   ]
  },
  {
   "cell_type": "code",
   "execution_count": 29,
   "metadata": {},
   "outputs": [],
   "source": [
    "received = received.merge(customers[['CUSTOMER_NUMBER', 'SEGMENT_ID']], how='left', on='CUSTOMER_NUMBER')"
   ]
  },
  {
   "cell_type": "code",
   "execution_count": 30,
   "metadata": {},
   "outputs": [
    {
     "data": {
      "text/plain": [
       "SEGMENT_ID\n",
       "0    0.802057\n",
       "1    0.419655\n",
       "2    0.623637\n",
       "3    0.961538\n",
       "Name: LATE_PAYMENT, dtype: float64"
      ]
     },
     "execution_count": 30,
     "metadata": {},
     "output_type": "execute_result"
    }
   ],
   "source": [
    "received.groupby('SEGMENT_ID')['LATE_PAYMENT'].mean()"
   ]
  },
  {
   "cell_type": "markdown",
   "metadata": {},
   "source": [
    "## EDA"
   ]
  },
  {
   "cell_type": "code",
   "execution_count": 31,
   "metadata": {},
   "outputs": [
    {
     "name": "stdout",
     "output_type": "stream",
     "text": [
      "<class 'pandas.core.frame.DataFrame'>\n",
      "RangeIndex: 87955 entries, 0 to 87954\n",
      "Data columns (total 15 columns):\n",
      " #   Column                 Non-Null Count  Dtype         \n",
      "---  ------                 --------------  -----         \n",
      " 0   RECEIPT_METHOD         87955 non-null  object        \n",
      " 1   CUSTOMER_NUMBER        87955 non-null  int64         \n",
      " 2   RECEIPT_DATE           87955 non-null  datetime64[ns]\n",
      " 3   CURRENCY_CODE          87955 non-null  object        \n",
      " 4   USD Amount             87955 non-null  float64       \n",
      " 5   INVOICE_CREATION_DATE  87955 non-null  datetime64[ns]\n",
      " 6   DUE_DATE               87955 non-null  datetime64[ns]\n",
      " 7   PAYMENT_TERM           87955 non-null  object        \n",
      " 8   INVOICE_CURRENCY_CODE  87955 non-null  object        \n",
      " 9   LATE_PAYMENT           87955 non-null  int64         \n",
      " 10  INVOICE_TYPE-GOODS     87955 non-null  int64         \n",
      " 11  INVOICE_CLASS-INV      87955 non-null  int64         \n",
      " 12  DAYS_EARLY             87955 non-null  int64         \n",
      " 13  DAYS_EARLY_CAPPED      87955 non-null  int64         \n",
      " 14  SEGMENT_ID             87955 non-null  int64         \n",
      "dtypes: datetime64[ns](3), float64(1), int64(7), object(4)\n",
      "memory usage: 10.1+ MB\n"
     ]
    }
   ],
   "source": [
    "received.info()"
   ]
  },
  {
   "cell_type": "markdown",
   "metadata": {},
   "source": [
    "### Target Variable"
   ]
  },
  {
   "cell_type": "code",
   "execution_count": 32,
   "metadata": {},
   "outputs": [
    {
     "data": {
      "image/png": "[encoded data removed]",
      "text/plain": [
       "<Figure size 640x480 with 1 Axes>"
      ]
     },
     "metadata": {},
     "output_type": "display_data"
    }
   ],
   "source": [
    "# plot taget variable\n",
    "sns.set_theme(style=\"whitegrid\")\n",
    "plt.pie(received['LATE_PAYMENT'].value_counts(), labels= received['LATE_PAYMENT'].value_counts().index, autopct='%1.1f%%')\n",
    "plt.show()"
   ]
  },
  {
   "cell_type": "markdown",
   "metadata": {},
   "source": [
    "> About 2/3 payments are Late!"
   ]
  },
  {
   "cell_type": "markdown",
   "metadata": {},
   "source": [
    "### Categoricals Variables"
   ]
  },
  {
   "cell_type": "code",
   "execution_count": 33,
   "metadata": {},
   "outputs": [],
   "source": [
    "# add segment_id to our list of categorical variables\n",
    "cate_cols.append('SEGMENT_ID')\n",
    "received['SEGMENT_ID'] = received['SEGMENT_ID'].astype('category')"
   ]
  },
  {
   "cell_type": "code",
   "execution_count": 37,
   "metadata": {},
   "outputs": [
    {
     "data": {
      "image/png": "[encoded data removed]",
      "text/plain": [
       "<Figure size 1200x1100 with 5 Axes>"
      ]
     },
     "metadata": {},
     "output_type": "display_data"
    }
   ],
   "source": [
    "# Lets check the average Late rate of categorical variables\n",
    "plt.figure(figsize=(12,11))\n",
    "for i in range(len(cate_cols)):\n",
    "    plt.subplot(3, 2, i+1)\n",
    "    sns.barplot(data= received, y= cate_cols[i], x= 'LATE_PAYMENT')\n",
    "    plt.xlabel('Late Rate')\n",
    "    plt.ylabel(cate_cols[i])\n",
    "plt.tight_layout()\n",
    "plt.show();"
   ]
  },
  {
   "cell_type": "markdown",
   "metadata": {},
   "source": [
    "> Insights on the Categoricals Variables Analysis:\n",
    "- Payments with **Cheque** payment method have the highest chance of being late.\n",
    "- Payments with **USD** and **SAR** payment currency have much higher change of being late, compared to **AED** and **other** payment currency. This is also applied on Invoice's currency.\n",
    "- Pretty much all the payments with **Immediate Payment** payment term and **15 Days from EOM** was late. In contrast, payments with payment term **30 (or 60) Days from EOM** are ussualy paid on time.\n",
    "- Customers in **SEGMENT_ID** 3 have very high chance of paying late, while customers in **SEGMENT_ID** 1 are less likely to."
   ]
  },
  {
   "cell_type": "markdown",
   "metadata": {},
   "source": [
    "## Test-Train split & scaling"
   ]
  },
  {
   "cell_type": "markdown",
   "metadata": {},
   "source": [
    "## Model Building"
   ]
  },
  {
   "cell_type": "markdown",
   "metadata": {},
   "source": [
    "## Model Evaluation"
   ]
  },
  {
   "cell_type": "markdown",
   "metadata": {},
   "source": [
    "## Predictions on the Test set"
   ]
  }
 ],
 "metadata": {
  "kernelspec": {
   "display_name": "Python 3",
   "language": "python",
   "name": "python3"
  },
  "language_info": {
   "codemirror_mode": {
    "name": "ipython",
    "version": 3
   },
   "file_extension": ".py",
   "mimetype": "text/x-python",
   "name": "python",
   "nbconvert_exporter": "python",
   "pygments_lexer": "ipython3",
   "version": "3.12.6"
  }
 },
 "nbformat": 4,
 "nbformat_minor": 2
}
